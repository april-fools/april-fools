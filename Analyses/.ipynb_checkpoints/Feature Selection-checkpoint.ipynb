{
 "cells": [
  {
   "cell_type": "code",
   "execution_count": 1,
   "metadata": {},
   "outputs": [],
   "source": [
    "import pandas as pd\n",
    "import numpy as np\n",
    "import matplotlib.pyplot as plt\n",
    "\n",
    "from sklearn.linear_model import LogisticRegression\n",
    "from sklearn.preprocessing import StandardScaler\n",
    "from sklearn import metrics\n",
    "from sklearn.model_selection import cross_val_predict\n",
    "from sklearn.pipeline import Pipeline\n",
    "\n",
    "from sklearn.feature_selection import SelectKBest\n",
    "from sklearn.feature_selection import chi2, mutual_info_classif, f_classif, RFE"
   ]
  },
  {
   "cell_type": "code",
   "execution_count": 2,
   "metadata": {},
   "outputs": [],
   "source": [
    "feats = pd.read_csv(\"../System/feats_train.csv\")\n",
    "\n",
    "af = feats.loc[feats['class'] == 1]\n",
    "naf = feats.loc[feats['class'] == 0]\n",
    "\n",
    "feats.set_index('index', inplace=True)\n",
    "\n",
    "labels = feats[\"class\"]\n",
    "feats.drop('class', axis=1, inplace=True)\n",
    "\n",
    "t10_table = pd.DataFrame()\n",
    "\n",
    "K_FEATS = 5"
   ]
  },
  {
   "cell_type": "code",
   "execution_count": 3,
   "metadata": {},
   "outputs": [],
   "source": [
    "fake = pd.read_csv(\"../System/fake_news_feats_train.csv\")\n",
    "fake_labels = fake[\"class\"]\n",
    "fake.drop('class', axis=1, inplace=True)"
   ]
  },
  {
   "cell_type": "code",
   "execution_count": 4,
   "metadata": {},
   "outputs": [],
   "source": [
    "groups = [\"complexity\", \"deception\", \"details\", \"formality\"\n",
    "                  ,\"humour\", \"imagination\", \"vagueness\"]\n",
    "\n",
    "colour_map = {\"complexity\":\"C0\", \"deception\":\"C1\", \"details\":\"C2\", \"formality\":\"C3\"\n",
    "                  ,\"humour\":\"C4\", \"imagination\":\"C5\", \"vagueness\":\"C6\"}\n",
    "\n",
    "feat_group_map = dict()\n",
    "\n",
    "for g in groups:\n",
    "    with open(\"../System/feature_sets/{}.txt\".format(g)) as file:\n",
    "        for line in file:\n",
    "            if line.strip() in feats.columns:\n",
    "                feat_group_map[line.strip()] = g"
   ]
  },
  {
   "cell_type": "code",
   "execution_count": 5,
   "metadata": {},
   "outputs": [],
   "source": [
    "def classify(tab, lab):\n",
    "    classifier = LogisticRegression()\n",
    "\n",
    "    pipeline = Pipeline([\n",
    "            #('normalizer', StandardScaler()),  # Step1 - normalize data\n",
    "    #         ('normalizer', RobustScaler(quantile_range=(25, 75))),  # Step1 - normalize data\n",
    "            ('clf', classifier)  # Step2 - classifier\n",
    "            ])\n",
    "\n",
    "    predicted = cross_val_predict(pipeline, tab, lab, cv=10)\n",
    "\n",
    "    score = metrics.f1_score(lab, predicted, pos_label=1)\n",
    "    precision = metrics.average_precision_score(lab, predicted)\n",
    "    recall = metrics.recall_score(lab, predicted)\n",
    "    accuracy = metrics.accuracy_score(lab, predicted)\n",
    "\n",
    "    print(\"Precision: {}\".format(precision))\n",
    "    print(\"Recall: {}\".format(recall))\n",
    "    print(\"Accuracy: {}\".format(accuracy))\n",
    "    print(\"F1-Score: {}\".format(score))"
   ]
  },
  {
   "cell_type": "code",
   "execution_count": 6,
   "metadata": {},
   "outputs": [],
   "source": [
    "def univariate_selection(method, tab, lab, k=10):\n",
    "    best = SelectKBest(method, k)\n",
    "    best.fit_transform(tab, lab)\n",
    "    t10 = tab.loc[:, best.get_support()]\n",
    "    return t10"
   ]
  },
  {
   "cell_type": "code",
   "execution_count": 7,
   "metadata": {},
   "outputs": [],
   "source": [
    "def sort_top_10(top_10):\n",
    "    df = pd.DataFrame()\n",
    "    df['Feature'] = top_10\n",
    "    df['Group'] = df['Feature'].map(feat_group_map)\n",
    "    df = df.sort_values(by='Group')\n",
    "    return list(df['Feature'].values)"
   ]
  },
  {
   "cell_type": "code",
   "execution_count": 8,
   "metadata": {},
   "outputs": [
    {
     "name": "stdout",
     "output_type": "stream",
     "text": [
      "['lexical_diversity', 'ap_num', 'ap_date', 'ap_title', 'alliteration']\n",
      "\n",
      "\n",
      "Precision: 0.5818790010318086\n",
      "Recall: 0.6319845857418112\n",
      "Accuracy: 0.630057803468208\n",
      "F1-Score: 0.6307692307692307\n"
     ]
    }
   ],
   "source": [
    "t10_chi = univariate_selection(chi2, feats, labels, k=K_FEATS)\n",
    "top_10 = sort_top_10(t10_chi.columns)\n",
    "t10_table['Chi'] = top_10\n",
    "print(top_10)\n",
    "print('\\n')\n",
    "classify(t10_chi, labels)"
   ]
  },
  {
   "cell_type": "code",
   "execution_count": 9,
   "metadata": {},
   "outputs": [
    {
     "name": "stdout",
     "output_type": "stream",
     "text": [
      "['lexical_diversity', 'fp_pronouns', 'time_related', 'sense_words', 'preposition']\n",
      "\n",
      "\n",
      "Precision: 0.6028013293700848\n",
      "Recall: 0.6647398843930635\n",
      "Accuracy: 0.6570327552986512\n",
      "F1-Score: 0.6596558317399618\n"
     ]
    }
   ],
   "source": [
    "t10_f = univariate_selection(f_classif, feats, labels, k=K_FEATS)\n",
    "top_10 = sort_top_10(t10_f.columns)\n",
    "t10_table['F'] = top_10\n",
    "print(top_10)\n",
    "print('\\n')\n",
    "classify(t10_f, labels)"
   ]
  },
  {
   "cell_type": "code",
   "execution_count": 10,
   "metadata": {},
   "outputs": [
    {
     "name": "stdout",
     "output_type": "stream",
     "text": [
      "['body_punctuation', 'lexical_diversity', 'sense_words', 'ima_determiners', 'adjectives']\n",
      "\n",
      "\n",
      "Precision: 0.5957356309303086\n",
      "Recall: 0.6589595375722543\n",
      "Accuracy: 0.6483622350674374\n",
      "F1-Score: 0.6520495710200191\n"
     ]
    }
   ],
   "source": [
    "t10_info = univariate_selection(mutual_info_classif, feats, labels, k=K_FEATS)\n",
    "top_10 = sort_top_10(t10_info.columns)\n",
    "t10_table['Mutual Information'] = top_10\n",
    "print(top_10)\n",
    "print('\\n')\n",
    "classify(t10_info, labels)"
   ]
  },
  {
   "cell_type": "code",
   "execution_count": 11,
   "metadata": {},
   "outputs": [
    {
     "name": "stdout",
     "output_type": "stream",
     "text": [
      "['lexical_diversity', 'proper_nouns', 'time_related', 'preposition', 'usas_ambiguity']\n",
      "\n",
      "\n",
      "Precision: 0.6142256443256078\n",
      "Recall: 0.6724470134874759\n",
      "Accuracy: 0.6705202312138728\n",
      "F1-Score: 0.6711538461538462\n"
     ]
    }
   ],
   "source": [
    "rfe = RFE(estimator=LogisticRegression(), n_features_to_select=K_FEATS, step=1)\n",
    "rfe.fit(feats, labels)\n",
    "chosen = rfe.ranking_ == 1\n",
    "t10_rfe = feats.loc[:, chosen]\n",
    "top_10 = sort_top_10(t10_rfe.columns)\n",
    "t10_table['RFE'] = top_10\n",
    "print(top_10)\n",
    "print('\\n')\n",
    "classify(t10_rfe, labels)"
   ]
  },
  {
   "cell_type": "markdown",
   "metadata": {},
   "source": [
    "Find the top 10 LR weighted features."
   ]
  },
  {
   "cell_type": "code",
   "execution_count": 12,
   "metadata": {},
   "outputs": [
    {
     "name": "stdout",
     "output_type": "stream",
     "text": [
      "['lexical_diversity', 'avg_sentence_len', 'time_related', 'dates', 'inf_verb']\n",
      "\n",
      "\n",
      "Precision: 0.601067168863779\n",
      "Recall: 0.6666666666666666\n",
      "Accuracy: 0.6551059730250481\n",
      "F1-Score: 0.659047619047619\n"
     ]
    }
   ],
   "source": [
    "CLF = LogisticRegression()\n",
    "\n",
    "pipeline = Pipeline([\n",
    "        ('normalizer', StandardScaler()),  # Step1 - normalize data\n",
    "#         ('normalizer', RobustScaler(quantile_range=(25, 75))),  # Step1 - normalize data\n",
    "        ('clf', CLF)  # Step2 - classifier\n",
    "        ])\n",
    "\n",
    "pipeline.fit(feats, labels)\n",
    "\n",
    "coeffs = CLF.coef_.ravel()\n",
    "\n",
    "rank_pd = pd.DataFrame()\n",
    "rank_pd['Weights'] = coeffs\n",
    "rank_pd['Features'] = feats.columns.values\n",
    "rank_pd['Weights'] = rank_pd['Weights'].abs()\n",
    "sorted_ranks = rank_pd.sort_values(by='Weights', ascending=False)\n",
    "chosen_columns = sorted_ranks.head(K_FEATS)['Features']\n",
    "t10_weights = feats.loc[:, chosen_columns]\n",
    "top_10 = sort_top_10(t10_weights.columns)\n",
    "t10_table['Weights'] = top_10\n",
    "\n",
    "print(top_10)\n",
    "print('\\n')\n",
    "classify(t10_weights, labels)"
   ]
  },
  {
   "cell_type": "code",
   "execution_count": 13,
   "metadata": {},
   "outputs": [
    {
     "data": {
      "text/html": [
       "<div>\n",
       "<style scoped>\n",
       "    .dataframe tbody tr th:only-of-type {\n",
       "        vertical-align: middle;\n",
       "    }\n",
       "\n",
       "    .dataframe tbody tr th {\n",
       "        vertical-align: top;\n",
       "    }\n",
       "\n",
       "    .dataframe thead th {\n",
       "        text-align: right;\n",
       "    }\n",
       "</style>\n",
       "<table border=\"1\" class=\"dataframe\">\n",
       "  <thead>\n",
       "    <tr style=\"text-align: right;\">\n",
       "      <th></th>\n",
       "      <th>Chi</th>\n",
       "      <th>F</th>\n",
       "      <th>Mutual Information</th>\n",
       "      <th>RFE</th>\n",
       "      <th>Weights</th>\n",
       "    </tr>\n",
       "  </thead>\n",
       "  <tbody>\n",
       "    <tr>\n",
       "      <th>0</th>\n",
       "      <td>lexical_diversity</td>\n",
       "      <td>lexical_diversity</td>\n",
       "      <td>body_punctuation</td>\n",
       "      <td>lexical_diversity</td>\n",
       "      <td>lexical_diversity</td>\n",
       "    </tr>\n",
       "    <tr>\n",
       "      <th>1</th>\n",
       "      <td>ap_num</td>\n",
       "      <td>fp_pronouns</td>\n",
       "      <td>lexical_diversity</td>\n",
       "      <td>proper_nouns</td>\n",
       "      <td>avg_sentence_len</td>\n",
       "    </tr>\n",
       "    <tr>\n",
       "      <th>2</th>\n",
       "      <td>ap_date</td>\n",
       "      <td>time_related</td>\n",
       "      <td>sense_words</td>\n",
       "      <td>time_related</td>\n",
       "      <td>time_related</td>\n",
       "    </tr>\n",
       "    <tr>\n",
       "      <th>3</th>\n",
       "      <td>ap_title</td>\n",
       "      <td>sense_words</td>\n",
       "      <td>ima_determiners</td>\n",
       "      <td>preposition</td>\n",
       "      <td>dates</td>\n",
       "    </tr>\n",
       "    <tr>\n",
       "      <th>4</th>\n",
       "      <td>alliteration</td>\n",
       "      <td>preposition</td>\n",
       "      <td>adjectives</td>\n",
       "      <td>usas_ambiguity</td>\n",
       "      <td>inf_verb</td>\n",
       "    </tr>\n",
       "  </tbody>\n",
       "</table>\n",
       "</div>"
      ],
      "text/plain": [
       "                 Chi                  F Mutual Information                RFE  \\\n",
       "0  lexical_diversity  lexical_diversity   body_punctuation  lexical_diversity   \n",
       "1             ap_num        fp_pronouns  lexical_diversity       proper_nouns   \n",
       "2            ap_date       time_related        sense_words       time_related   \n",
       "3           ap_title        sense_words    ima_determiners        preposition   \n",
       "4       alliteration        preposition         adjectives     usas_ambiguity   \n",
       "\n",
       "             Weights  \n",
       "0  lexical_diversity  \n",
       "1   avg_sentence_len  \n",
       "2       time_related  \n",
       "3              dates  \n",
       "4           inf_verb  "
      ]
     },
     "execution_count": 13,
     "metadata": {},
     "output_type": "execute_result"
    }
   ],
   "source": [
    "t10_table"
   ]
  },
  {
   "cell_type": "code",
   "execution_count": 14,
   "metadata": {},
   "outputs": [
    {
     "data": {
      "image/png": "[encoded data removed]",
      "text/plain": [
       "<matplotlib.figure.Figure at 0x7f45b758f7f0>"
      ]
     },
     "metadata": {},
     "output_type": "display_data"
    }
   ],
   "source": [
    "fig = plt.figure(figsize=(12, 8))\n",
    "ax = fig.add_subplot(111, frameon=True, xticks=[], yticks=[])\n",
    "\n",
    "the_table=plt.table(cellText=t10_table.values, rowLabels=t10_table.index, colLabels=t10_table.columns, \n",
    "                    loc='center')\n",
    "\n",
    "\n",
    "\n",
    "table_props = the_table.properties()\n",
    "table_cells = table_props['child_artists']\n",
    "\n",
    "for cell in table_cells:\n",
    "    txt = cell.get_text().get_text()\n",
    "    if txt in feat_group_map:\n",
    "        group = feat_group_map[txt]\n",
    "        colour = colour_map[group]\n",
    "        cell.set_color(colour)\n",
    "        \n",
    "fig.savefig(\"top_5_table.pdf\", bbox_inches='tight')"
   ]
  },
  {
   "cell_type": "code",
   "execution_count": 15,
   "metadata": {},
   "outputs": [
    {
     "data": {
      "text/plain": [
       "5"
      ]
     },
     "execution_count": 15,
     "metadata": {},
     "output_type": "execute_result"
    }
   ],
   "source": [
    "K_FEATS"
   ]
  },
  {
   "cell_type": "code",
   "execution_count": 16,
   "metadata": {},
   "outputs": [
    {
     "name": "stdout",
     "output_type": "stream",
     "text": [
      "Precision: 0.6044591246903386\n",
      "Recall: 0.6647398843930635\n",
      "Accuracy: 0.6589595375722543\n",
      "F1-Score: 0.6609195402298851\n",
      "\\begin{tabular}{lll}\n",
      "\\toprule\n",
      "{} &              Feats &        Group \\\\\n",
      "\\midrule\n",
      "0  &   avg\\_sentence\\_len &   complexity \\\\\n",
      "1  &   body\\_punctuation &   complexity \\\\\n",
      "2  &  lexical\\_diversity &   complexity \\\\\n",
      "3  &        fp\\_pronouns &    deception \\\\\n",
      "4  &       time\\_related &      details \\\\\n",
      "5  &        sense\\_words &      details \\\\\n",
      "6  &       proper\\_nouns &      details \\\\\n",
      "7  &              dates &      details \\\\\n",
      "8  &           ap\\_title &    formality \\\\\n",
      "9  &             ap\\_num &    formality \\\\\n",
      "10 &            ap\\_date &    formality \\\\\n",
      "11 &       alliteration &       humour \\\\\n",
      "12 &         adjectives &  imagination \\\\\n",
      "13 &        preposition &  imagination \\\\\n",
      "14 &           inf\\_verb &  imagination \\\\\n",
      "15 &    ima\\_determiners &  imagination \\\\\n",
      "16 &     usas\\_ambiguity &    vagueness \\\\\n",
      "\\bottomrule\n",
      "\\end{tabular}\n",
      "\n"
     ]
    }
   ],
   "source": [
    "top_names = list(set(t10_table.values.ravel()))\n",
    "pd_top_names = pd.DataFrame()\n",
    "pd_top_names['Feats'] = sort_top_10(top_names)\n",
    "pd_top_names['Group'] = pd_top_names['Feats'].map(feat_group_map)\n",
    "\n",
    "top_feats = feats.loc[:, top_names]\n",
    "classify(top_feats, labels)\n",
    "\n",
    "print(pd_top_names.to_latex())\n",
    "\n",
    "with open(\"../System/feature_sets/fs_t{}\".format(K_FEATS), 'w') as file:\n",
    "    for f in pd_top_names['Feats']:\n",
    "        file.write(\"{}\\n\".format(f))"
   ]
  },
  {
   "cell_type": "code",
   "execution_count": 17,
   "metadata": {},
   "outputs": [
    {
     "name": "stdout",
     "output_type": "stream",
     "text": [
      "(1038, 4)\n",
      "\n",
      "Precision: 0.6013359023763648\n",
      "Recall: 0.6608863198458574\n",
      "Accuracy: 0.6551059730250481\n",
      "F1-Score: 0.657088122605364\n"
     ]
    }
   ],
   "source": [
    "pd_top = pd.DataFrame()\n",
    "pd_top['Feats'] = t10_table.values.ravel()\n",
    "top_counts = pd_top.groupby(pd_top.Feats).size()\n",
    "top_counts = pd.DataFrame(top_counts)\n",
    "top_counts = top_counts.loc[top_counts[0] > 1]\n",
    "\n",
    "top_feats = feats.loc[:, top_counts.index.values]\n",
    "print(\"{}\\n\".format(top_feats.shape))\n",
    "classify(top_feats, labels)"
   ]
  },
  {
   "cell_type": "code",
   "execution_count": 18,
   "metadata": {},
   "outputs": [
    {
     "data": {
      "text/html": [
       "<div>\n",
       "<style scoped>\n",
       "    .dataframe tbody tr th:only-of-type {\n",
       "        vertical-align: middle;\n",
       "    }\n",
       "\n",
       "    .dataframe tbody tr th {\n",
       "        vertical-align: top;\n",
       "    }\n",
       "\n",
       "    .dataframe thead th {\n",
       "        text-align: right;\n",
       "    }\n",
       "</style>\n",
       "<table border=\"1\" class=\"dataframe\">\n",
       "  <thead>\n",
       "    <tr style=\"text-align: right;\">\n",
       "      <th></th>\n",
       "      <th>Feats</th>\n",
       "      <th>Group</th>\n",
       "    </tr>\n",
       "  </thead>\n",
       "  <tbody>\n",
       "    <tr>\n",
       "      <th>0</th>\n",
       "      <td>lexical_diversity</td>\n",
       "      <td>complexity</td>\n",
       "    </tr>\n",
       "    <tr>\n",
       "      <th>1</th>\n",
       "      <td>sense_words</td>\n",
       "      <td>details</td>\n",
       "    </tr>\n",
       "    <tr>\n",
       "      <th>2</th>\n",
       "      <td>time_related</td>\n",
       "      <td>details</td>\n",
       "    </tr>\n",
       "    <tr>\n",
       "      <th>3</th>\n",
       "      <td>preposition</td>\n",
       "      <td>imagination</td>\n",
       "    </tr>\n",
       "  </tbody>\n",
       "</table>\n",
       "</div>"
      ],
      "text/plain": [
       "               Feats        Group\n",
       "0  lexical_diversity   complexity\n",
       "1        sense_words      details\n",
       "2       time_related      details\n",
       "3        preposition  imagination"
      ]
     },
     "execution_count": 18,
     "metadata": {},
     "output_type": "execute_result"
    }
   ],
   "source": [
    "o2_names = top_counts.index.values\n",
    "pd_o2_names = pd.DataFrame()\n",
    "pd_o2_names['Feats'] = sort_top_10(o2_names)\n",
    "pd_o2_names['Group'] = pd_o2_names['Feats'].map(feat_group_map)\n",
    "\n",
    "pd_o2_names"
   ]
  },
  {
   "cell_type": "code",
   "execution_count": 19,
   "metadata": {},
   "outputs": [
    {
     "data": {
      "text/plain": [
       "Group\n",
       "complexity     1\n",
       "details        2\n",
       "imagination    1\n",
       "dtype: int64"
      ]
     },
     "execution_count": 19,
     "metadata": {},
     "output_type": "execute_result"
    }
   ],
   "source": [
    "pd_top_names = pd.DataFrame()\n",
    "pd_top_names['Feats'] = sort_top_10(top_counts.index.values)\n",
    "pd_top_names['Group'] = pd_top_names['Feats'].map(feat_group_map)\n",
    "\n",
    "pd_top_names.groupby(by='Group').size()"
   ]
  },
  {
   "cell_type": "code",
   "execution_count": 20,
   "metadata": {},
   "outputs": [
    {
     "name": "stdout",
     "output_type": "stream",
     "text": [
      "Precision: 0.6362728081658429\n",
      "Recall: 0.6991869918699187\n",
      "Accuracy: 0.7051792828685259\n",
      "F1-Score: 0.6991869918699187\n"
     ]
    }
   ],
   "source": [
    "top_fake = fake.loc[:, top_counts.index.values]\n",
    "classify(top_fake, fake_labels)"
   ]
  }
 ],
 "metadata": {
  "kernelspec": {
   "display_name": "Python 3",
   "language": "python",
   "name": "python3"
  },
  "language_info": {
   "codemirror_mode": {
    "name": "ipython",
    "version": 3
   },
   "file_extension": ".py",
   "mimetype": "text/x-python",
   "name": "python",
   "nbconvert_exporter": "python",
   "pygments_lexer": "ipython3",
   "version": "3.6.5"
  }
 },
 "nbformat": 4,
 "nbformat_minor": 2
}
